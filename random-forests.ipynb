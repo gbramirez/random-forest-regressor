{
 "cells": [
  {
   "cell_type": "markdown",
   "id": "0d8a1cf7",
   "metadata": {},
   "source": [
    "### Brian Ramirez - Random Forests Project\n",
    "\n",
    "**Research Question**\n",
    "\n",
    "_Can Random Forests predict a patient's total charge and identify the most relevant features for this prediction?_ This analysis aims to enable the organization to prioritize revenue-generating services.\n",
    "\n",
    "**Project Goals**\n",
    "\n",
    "- Predict patient total charges using Random Forests.\n",
    "- Determine key features impacting patient charges.\n",
    "- Offer actionable recommendations to stakeholders.\n",
    "\n",
    "**Methodology**\n",
    "\n",
    "Random Forests is an ensemble learning method which was chosen for its robust regression and classification capabilities.\n",
    "The process includes several steps, which \"Practical Statistics for Data Scientists\" describes as the following: \n",
    "\n",
    "1. Sampling a subset of data.\n",
    "2. Randomizing variable selection for splits.\n",
    "3. Applying the algorithm to each subset.\n",
    "4. Choosing splits that optimize class homogeneity.\n",
    "5. Developing the tree to completion.\n",
    "6. Repeating the process.\n",
    "\n",
    "(Bruce, Bruce, & Gedeck, 2020)\n",
    "\n",
    "This method's approach to regression is well-suited for forecasting patient charges and identifying influential features.\n",
    "\n",
    "**Assumption**\n",
    "\n",
    "A key assumption for Random Forests is that the sample data is representative of the population. This technique inherently accounts for this by using subsampling as an integral step in the algorithm, ensuring a comprehensive model.\n",
    "\n",
    "**Packages and Libraries**\n",
    "\n",
    "Key Python packages for this project include:\n",
    "\n",
    "- `Pandas`: For data manipulation and analysis.\n",
    "- `NumPy`: For numerical computations.\n",
    "- `Scikit-Learn`:\n",
    "  - `Preprocessing`: To convert categorical data into numerical.\n",
    "  - `Model Selection (train_test_split)`: To partition the dataset into training and testing sets.\n",
    "  - `Ensemble (RandomForestRegressor)`: To implement the Random Forest model.\n",
    "  - `Metrics`: To evaluate model accuracy.\n",
    "- `Matplotlib (PyPlot)`: For data visualization.\n",
    "- `Warnings (filterwarnings)`: To suppress unnecessary warnings during analysis.\n",
    "\n",
    "The integration of these tools will facilitate the development of a predictive model for patient charges, providing insights for informed decision-making.\n"
   ]
  },
  {
   "cell_type": "markdown",
   "id": "dac72d41",
   "metadata": {},
   "source": [
    "## Data Preparation\n",
    "\n",
    "### Preprocessing Objective\n",
    "\n",
    "Our preprocessing objective aligns with employing Random Forests as our prediction method. We aim to transform all categorical variables into numerical values, an essential step because the `RandomForestRegressor` cannot process categorical data. This conversion ensures the model operates effectively.\n",
    "\n",
    "### Essential Variables\n",
    "\n",
    "The dataset includes the following variables, categorized by type and detailed with descriptions:\n",
    "\n",
    "| Type | Variable | Description |\n",
    "| :--- | :--- | :--- |\n",
    "| Target (Continuous) | `Total_charge` | The patient's total charge for their hospital stay. |\n",
    "| Continuous | `Age` | The age of the patient. |\n",
    "| Continuous | `Doc_visits` | The count of doctor visits during the patient's stay. |\n",
    "| Continuous | `Initial_days` | The duration of the patient's initial hospital stay. |\n",
    "| Continuous | `Additional_charges` | Extra charges incurred during the patient's stay. |\n",
    "| Categorical | `Complication_risk` | The assigned risk level of complications for the patient. |\n",
    "| Categorical | `HighBlood` | Indicates if the patient is diagnosed with high blood pressure. |\n",
    "| Categorical | `Stroke` | Indicates if the patient has had a stroke. |\n",
    "| Categorical | `Overweight` | Indicates if the patient is diagnosed as overweight or obese. |\n",
    "| Categorical | `Arthritis` | Indicates if the patient has arthritis. |\n",
    "| Categorical | `Diabetes` | Indicates if the patient has diabetes. |\n",
    "| Categorical | `Hyperlipidemia` | Indicates if the patient has hyperlipidemia. |\n",
    "| Categorical | `Backpain` | Indicates if the patient suffers from back pain. |\n",
    "| Categorical | `Anxiety` | Indicates if the patient has anxiety. |\n",
    "| Categorical | `Allergic_rhinitis` | Indicates if the patient has allergic rhinitis. |\n",
    "| Categorical | `Reflux_esophagitis` | Indicates if the patient has reflux esophagitis. |\n",
    "\n",
    "This information will guide the data preprocessing phase to prepare our dataset for the Random Forests model.\n"
   ]
  },
  {
   "cell_type": "markdown",
   "id": "95f1f4be",
   "metadata": {},
   "source": [
    "### Data Preparation Steps\n",
    "\n",
    "**Step Zero: Data Import and Initialization**\n",
    "\n",
    "- Import the CSV file into Jupyter Notebook and create a DataFrame.\n",
    "- Create a subset of the DataFrame containing the necessary variables.\n",
    "- Create a deep copy of the DataFrame for safe data manipulation.\n",
    "\n",
    "**Step Zero - Required Imports**\n",
    "\n",
    "The following Python libraries are required for Step Zero:\n",
    "\n",
    "- `Pandas`: Utilized for loading the CSV file, creating a DataFrame, and saving a deep copy of the data.\n",
    "- `NumPy`: Essential for creating a subset of the DataFrame.\n",
    "- `filterwarnings` from the `warnings` library: Employed to suppress redundant error messages during data preparation.\n"
   ]
  },
  {
   "cell_type": "code",
   "execution_count": 26,
   "id": "30956059",
   "metadata": {},
   "outputs": [],
   "source": [
    "import pandas as pd\n",
    "import numpy as np\n",
    "from sklearn.ensemble import RandomForestRegressor\n",
    "from sklearn.model_selection import train_test_split\n",
    "from sklearn.metrics import mean_squared_error, mean_absolute_error\n",
    "from sklearn.preprocessing import LabelEncoder\n",
    "import matplotlib.pyplot as plt\n",
    "%matplotlib inline\n",
    "import warnings\n",
    "warnings.filterwarnings('ignore')"
   ]
  },
  {
   "cell_type": "code",
   "execution_count": 2,
   "id": "f7bb6412",
   "metadata": {
    "scrolled": true
   },
   "outputs": [
    {
     "name": "stdout",
     "output_type": "stream",
     "text": [
      "<class 'pandas.core.frame.DataFrame'>\n",
      "RangeIndex: 10000 entries, 0 to 9999\n",
      "Data columns (total 50 columns):\n",
      " #   Column              Non-Null Count  Dtype  \n",
      "---  ------              --------------  -----  \n",
      " 0   CaseOrder           10000 non-null  int64  \n",
      " 1   Customer_id         10000 non-null  object \n",
      " 2   Interaction         10000 non-null  object \n",
      " 3   UID                 10000 non-null  object \n",
      " 4   City                10000 non-null  object \n",
      " 5   State               10000 non-null  object \n",
      " 6   County              10000 non-null  object \n",
      " 7   Zip                 10000 non-null  int64  \n",
      " 8   Lat                 10000 non-null  float64\n",
      " 9   Lng                 10000 non-null  float64\n",
      " 10  Population          10000 non-null  int64  \n",
      " 11  Area                10000 non-null  object \n",
      " 12  TimeZone            10000 non-null  object \n",
      " 13  Job                 10000 non-null  object \n",
      " 14  Children            10000 non-null  int64  \n",
      " 15  Age                 10000 non-null  int64  \n",
      " 16  Income              10000 non-null  float64\n",
      " 17  Marital             10000 non-null  object \n",
      " 18  Gender              10000 non-null  object \n",
      " 19  ReAdmis             10000 non-null  object \n",
      " 20  VitD_levels         10000 non-null  float64\n",
      " 21  Doc_visits          10000 non-null  int64  \n",
      " 22  Full_meals_eaten    10000 non-null  int64  \n",
      " 23  vitD_supp           10000 non-null  int64  \n",
      " 24  Soft_drink          10000 non-null  object \n",
      " 25  Initial_admin       10000 non-null  object \n",
      " 26  HighBlood           10000 non-null  object \n",
      " 27  Stroke              10000 non-null  object \n",
      " 28  Complication_risk   10000 non-null  object \n",
      " 29  Overweight          10000 non-null  object \n",
      " 30  Arthritis           10000 non-null  object \n",
      " 31  Diabetes            10000 non-null  object \n",
      " 32  Hyperlipidemia      10000 non-null  object \n",
      " 33  BackPain            10000 non-null  object \n",
      " 34  Anxiety             10000 non-null  object \n",
      " 35  Allergic_rhinitis   10000 non-null  object \n",
      " 36  Reflux_esophagitis  10000 non-null  object \n",
      " 37  Asthma              10000 non-null  object \n",
      " 38  Services            10000 non-null  object \n",
      " 39  Initial_days        10000 non-null  float64\n",
      " 40  TotalCharge         10000 non-null  float64\n",
      " 41  Additional_charges  10000 non-null  float64\n",
      " 42  Item1               10000 non-null  int64  \n",
      " 43  Item2               10000 non-null  int64  \n",
      " 44  Item3               10000 non-null  int64  \n",
      " 45  Item4               10000 non-null  int64  \n",
      " 46  Item5               10000 non-null  int64  \n",
      " 47  Item6               10000 non-null  int64  \n",
      " 48  Item7               10000 non-null  int64  \n",
      " 49  Item8               10000 non-null  int64  \n",
      "dtypes: float64(7), int64(16), object(27)\n",
      "memory usage: 3.8+ MB\n"
     ]
    }
   ],
   "source": [
    "# Use Pandas to load the CSV file into Jupyter Notebook and make a DataFrame\n",
    "\n",
    "df=pd.read_csv('/medical_clean.csv')\n",
    "df.info()"
   ]
  },
  {
   "cell_type": "code",
   "execution_count": 3,
   "id": "bfa69ca7",
   "metadata": {},
   "outputs": [],
   "source": [
    "# Use NumPy to create a subset of the dataframe with the relevant variables\n",
    "\n",
    "df = df.iloc[:, np.r_[15, 21, 26:37, 39:42]]"
   ]
  },
  {
   "cell_type": "code",
   "execution_count": 4,
   "id": "38533134",
   "metadata": {
    "scrolled": true
   },
   "outputs": [
    {
     "name": "stdout",
     "output_type": "stream",
     "text": [
      "<class 'pandas.core.frame.DataFrame'>\n",
      "RangeIndex: 10000 entries, 0 to 9999\n",
      "Data columns (total 16 columns):\n",
      " #   Column              Non-Null Count  Dtype  \n",
      "---  ------              --------------  -----  \n",
      " 0   Age                 10000 non-null  int64  \n",
      " 1   Doc_visits          10000 non-null  int64  \n",
      " 2   HighBlood           10000 non-null  object \n",
      " 3   Stroke              10000 non-null  object \n",
      " 4   Complication_risk   10000 non-null  object \n",
      " 5   Overweight          10000 non-null  object \n",
      " 6   Arthritis           10000 non-null  object \n",
      " 7   Diabetes            10000 non-null  object \n",
      " 8   Hyperlipidemia      10000 non-null  object \n",
      " 9   BackPain            10000 non-null  object \n",
      " 10  Anxiety             10000 non-null  object \n",
      " 11  Allergic_rhinitis   10000 non-null  object \n",
      " 12  Reflux_esophagitis  10000 non-null  object \n",
      " 13  Initial_days        10000 non-null  float64\n",
      " 14  TotalCharge         10000 non-null  float64\n",
      " 15  Additional_charges  10000 non-null  float64\n",
      "dtypes: float64(3), int64(2), object(11)\n",
      "memory usage: 1.2+ MB\n"
     ]
    }
   ],
   "source": [
    "# Display the subset data frame's info\n",
    "\n",
    "df.info()"
   ]
  },
  {
   "cell_type": "code",
   "execution_count": 5,
   "id": "4128c49a",
   "metadata": {
    "scrolled": true
   },
   "outputs": [
    {
     "data": {
      "text/html": [
       "<div>\n",
       "<style scoped>\n",
       "    .dataframe tbody tr th:only-of-type {\n",
       "        vertical-align: middle;\n",
       "    }\n",
       "\n",
       "    .dataframe tbody tr th {\n",
       "        vertical-align: top;\n",
       "    }\n",
       "\n",
       "    .dataframe thead th {\n",
       "        text-align: right;\n",
       "    }\n",
       "</style>\n",
       "<table border=\"1\" class=\"dataframe\">\n",
       "  <thead>\n",
       "    <tr style=\"text-align: right;\">\n",
       "      <th></th>\n",
       "      <th>Age</th>\n",
       "      <th>Doc_visits</th>\n",
       "      <th>HighBlood</th>\n",
       "      <th>Stroke</th>\n",
       "      <th>Complication_risk</th>\n",
       "      <th>Overweight</th>\n",
       "      <th>Arthritis</th>\n",
       "      <th>Diabetes</th>\n",
       "      <th>Hyperlipidemia</th>\n",
       "      <th>BackPain</th>\n",
       "      <th>Anxiety</th>\n",
       "      <th>Allergic_rhinitis</th>\n",
       "      <th>Reflux_esophagitis</th>\n",
       "      <th>Initial_days</th>\n",
       "      <th>TotalCharge</th>\n",
       "      <th>Additional_charges</th>\n",
       "    </tr>\n",
       "  </thead>\n",
       "  <tbody>\n",
       "    <tr>\n",
       "      <th>0</th>\n",
       "      <td>53</td>\n",
       "      <td>6</td>\n",
       "      <td>Yes</td>\n",
       "      <td>No</td>\n",
       "      <td>Medium</td>\n",
       "      <td>No</td>\n",
       "      <td>Yes</td>\n",
       "      <td>Yes</td>\n",
       "      <td>No</td>\n",
       "      <td>Yes</td>\n",
       "      <td>Yes</td>\n",
       "      <td>Yes</td>\n",
       "      <td>No</td>\n",
       "      <td>10.585770</td>\n",
       "      <td>3726.702860</td>\n",
       "      <td>17939.403420</td>\n",
       "    </tr>\n",
       "    <tr>\n",
       "      <th>1</th>\n",
       "      <td>51</td>\n",
       "      <td>4</td>\n",
       "      <td>Yes</td>\n",
       "      <td>No</td>\n",
       "      <td>High</td>\n",
       "      <td>Yes</td>\n",
       "      <td>No</td>\n",
       "      <td>No</td>\n",
       "      <td>No</td>\n",
       "      <td>No</td>\n",
       "      <td>No</td>\n",
       "      <td>No</td>\n",
       "      <td>Yes</td>\n",
       "      <td>15.129562</td>\n",
       "      <td>4193.190458</td>\n",
       "      <td>17612.998120</td>\n",
       "    </tr>\n",
       "    <tr>\n",
       "      <th>2</th>\n",
       "      <td>53</td>\n",
       "      <td>4</td>\n",
       "      <td>Yes</td>\n",
       "      <td>No</td>\n",
       "      <td>Medium</td>\n",
       "      <td>Yes</td>\n",
       "      <td>No</td>\n",
       "      <td>Yes</td>\n",
       "      <td>No</td>\n",
       "      <td>No</td>\n",
       "      <td>No</td>\n",
       "      <td>No</td>\n",
       "      <td>No</td>\n",
       "      <td>4.772177</td>\n",
       "      <td>2434.234222</td>\n",
       "      <td>17505.192460</td>\n",
       "    </tr>\n",
       "    <tr>\n",
       "      <th>3</th>\n",
       "      <td>78</td>\n",
       "      <td>4</td>\n",
       "      <td>No</td>\n",
       "      <td>Yes</td>\n",
       "      <td>Medium</td>\n",
       "      <td>No</td>\n",
       "      <td>Yes</td>\n",
       "      <td>No</td>\n",
       "      <td>No</td>\n",
       "      <td>No</td>\n",
       "      <td>No</td>\n",
       "      <td>No</td>\n",
       "      <td>Yes</td>\n",
       "      <td>1.714879</td>\n",
       "      <td>2127.830423</td>\n",
       "      <td>12993.437350</td>\n",
       "    </tr>\n",
       "    <tr>\n",
       "      <th>4</th>\n",
       "      <td>22</td>\n",
       "      <td>5</td>\n",
       "      <td>No</td>\n",
       "      <td>No</td>\n",
       "      <td>Low</td>\n",
       "      <td>No</td>\n",
       "      <td>No</td>\n",
       "      <td>No</td>\n",
       "      <td>Yes</td>\n",
       "      <td>No</td>\n",
       "      <td>No</td>\n",
       "      <td>Yes</td>\n",
       "      <td>No</td>\n",
       "      <td>1.254807</td>\n",
       "      <td>2113.073274</td>\n",
       "      <td>3716.525786</td>\n",
       "    </tr>\n",
       "  </tbody>\n",
       "</table>\n",
       "</div>"
      ],
      "text/plain": [
       "   Age  Doc_visits HighBlood Stroke Complication_risk Overweight Arthritis  \\\n",
       "0   53           6       Yes     No            Medium         No       Yes   \n",
       "1   51           4       Yes     No              High        Yes        No   \n",
       "2   53           4       Yes     No            Medium        Yes        No   \n",
       "3   78           4        No    Yes            Medium         No       Yes   \n",
       "4   22           5        No     No               Low         No        No   \n",
       "\n",
       "  Diabetes Hyperlipidemia BackPain Anxiety Allergic_rhinitis  \\\n",
       "0      Yes             No      Yes     Yes               Yes   \n",
       "1       No             No       No      No                No   \n",
       "2      Yes             No       No      No                No   \n",
       "3       No             No       No      No                No   \n",
       "4       No            Yes       No      No               Yes   \n",
       "\n",
       "  Reflux_esophagitis  Initial_days  TotalCharge  Additional_charges  \n",
       "0                 No     10.585770  3726.702860        17939.403420  \n",
       "1                Yes     15.129562  4193.190458        17612.998120  \n",
       "2                 No      4.772177  2434.234222        17505.192460  \n",
       "3                Yes      1.714879  2127.830423        12993.437350  \n",
       "4                 No      1.254807  2113.073274         3716.525786  "
      ]
     },
     "execution_count": 5,
     "metadata": {},
     "output_type": "execute_result"
    }
   ],
   "source": [
    "# Display the first five rows of the subset dataframe\n",
    "\n",
    "df.head()"
   ]
  },
  {
   "cell_type": "code",
   "execution_count": 6,
   "id": "73f60b3e",
   "metadata": {},
   "outputs": [],
   "source": [
    "# Make a deep copy of the file\n",
    "\n",
    "patient_df_deep_copy=df.copy(deep=True)"
   ]
  },
  {
   "cell_type": "markdown",
   "id": "0b135e25",
   "metadata": {},
   "source": [
    "**Step One: Data Cleaning**\n",
    "\n",
    "- Check for duplicate values and handle them as necessary.\n",
    "- Identify and manage missing or null values.\n",
    "- Evaluate variable correlations.\n"
   ]
  },
  {
   "cell_type": "code",
   "execution_count": 7,
   "id": "e8649016",
   "metadata": {},
   "outputs": [
    {
     "data": {
      "text/plain": [
       "False    10000\n",
       "dtype: int64"
      ]
     },
     "execution_count": 7,
     "metadata": {},
     "output_type": "execute_result"
    }
   ],
   "source": [
    "# Check duplicate data value count\n",
    "\n",
    "df.duplicated().value_counts()"
   ]
  },
  {
   "cell_type": "markdown",
   "id": "2bf12d47",
   "metadata": {},
   "source": [
    "<p>No duplicate values detected.<br>\n",
    "Treatment of duplicate values will not be necessary.</p>"
   ]
  },
  {
   "cell_type": "code",
   "execution_count": 8,
   "id": "ce71d625",
   "metadata": {
    "scrolled": true
   },
   "outputs": [
    {
     "data": {
      "text/plain": [
       "Age                   0\n",
       "Doc_visits            0\n",
       "HighBlood             0\n",
       "Stroke                0\n",
       "Complication_risk     0\n",
       "Overweight            0\n",
       "Arthritis             0\n",
       "Diabetes              0\n",
       "Hyperlipidemia        0\n",
       "BackPain              0\n",
       "Anxiety               0\n",
       "Allergic_rhinitis     0\n",
       "Reflux_esophagitis    0\n",
       "Initial_days          0\n",
       "TotalCharge           0\n",
       "Additional_charges    0\n",
       "dtype: int64"
      ]
     },
     "execution_count": 8,
     "metadata": {},
     "output_type": "execute_result"
    }
   ],
   "source": [
    "# Check missing or null value count\n",
    "\n",
    "df.isnull().sum()"
   ]
  },
  {
   "cell_type": "markdown",
   "id": "3bd2ecf0",
   "metadata": {},
   "source": [
    "<p>No missing or null values detected.<br>\n",
    "Treatment of missing or null values will not be necessary.</p>"
   ]
  },
  {
   "cell_type": "code",
   "execution_count": 9,
   "id": "99021da0",
   "metadata": {},
   "outputs": [
    {
     "data": {
      "text/html": [
       "<div>\n",
       "<style scoped>\n",
       "    .dataframe tbody tr th:only-of-type {\n",
       "        vertical-align: middle;\n",
       "    }\n",
       "\n",
       "    .dataframe tbody tr th {\n",
       "        vertical-align: top;\n",
       "    }\n",
       "\n",
       "    .dataframe thead th {\n",
       "        text-align: right;\n",
       "    }\n",
       "</style>\n",
       "<table border=\"1\" class=\"dataframe\">\n",
       "  <thead>\n",
       "    <tr style=\"text-align: right;\">\n",
       "      <th></th>\n",
       "      <th>Initial_days</th>\n",
       "      <th>TotalCharge</th>\n",
       "      <th>Additional_charges</th>\n",
       "    </tr>\n",
       "  </thead>\n",
       "  <tbody>\n",
       "    <tr>\n",
       "      <th>Initial_days</th>\n",
       "      <td>1.000000</td>\n",
       "      <td>0.987640</td>\n",
       "      <td>0.004409</td>\n",
       "    </tr>\n",
       "    <tr>\n",
       "      <th>TotalCharge</th>\n",
       "      <td>0.987640</td>\n",
       "      <td>1.000000</td>\n",
       "      <td>0.029256</td>\n",
       "    </tr>\n",
       "    <tr>\n",
       "      <th>Additional_charges</th>\n",
       "      <td>0.004409</td>\n",
       "      <td>0.029256</td>\n",
       "      <td>1.000000</td>\n",
       "    </tr>\n",
       "  </tbody>\n",
       "</table>\n",
       "</div>"
      ],
      "text/plain": [
       "                    Initial_days  TotalCharge  Additional_charges\n",
       "Initial_days            1.000000     0.987640            0.004409\n",
       "TotalCharge             0.987640     1.000000            0.029256\n",
       "Additional_charges      0.004409     0.029256            1.000000"
      ]
     },
     "execution_count": 9,
     "metadata": {},
     "output_type": "execute_result"
    }
   ],
   "source": [
    "# Check correlation\n",
    "\n",
    "df_cont_vars = df[df.columns[df.dtypes == 'float64']]\n",
    "df_cont_vars.corr(method='pearson')"
   ]
  },
  {
   "cell_type": "markdown",
   "id": "19bacf48",
   "metadata": {},
   "source": [
    "**Step Two: Feature Engineering**\n",
    "\n",
    "- Rename continuous variables to snake case for uniformity.\n",
    "- Convert categorical variables into dummy variables with numerical values.\n",
    "- Remove original categorical variables to retain only re-expressed values."
   ]
  },
  {
   "cell_type": "code",
   "execution_count": 10,
   "id": "9c5f1452",
   "metadata": {},
   "outputs": [],
   "source": [
    "# Rename continuous variables to snake case\n",
    "\n",
    "df.rename(columns=({'Age':'age', 'Doc_visits':'doc_visits', 'Initial_days':'initial_days', 'TotalCharge':'total_charge', 'Additional_charges':'additional_charges'}),inplace=True)"
   ]
  },
  {
   "cell_type": "code",
   "execution_count": 12,
   "id": "d1f3f4a9",
   "metadata": {},
   "outputs": [],
   "source": [
    "# Reexpress categorical variables into dummy variables with numerical values\n",
    "\n",
    "le=LabelEncoder()\n",
    "\n",
    "overweight=le.fit_transform(df.Overweight)\n",
    "arthritis=le.fit_transform(df.Arthritis)\n",
    "diabetes=le.fit_transform(df.Diabetes)\n",
    "hyperlipidemia=le.fit_transform(df.Hyperlipidemia)\n",
    "backpain=le.fit_transform(df.BackPain)\n",
    "anxiety=le.fit_transform(df.Anxiety)\n",
    "rhinitis=le.fit_transform(df.Allergic_rhinitis)\n",
    "esophagitis=le.fit_transform(df.Reflux_esophagitis)\n",
    "blood_pressure=le.fit_transform(df.HighBlood)\n",
    "stroke=le.fit_transform(df.Stroke)\n",
    "\n",
    "#df['services']=pd.get_dummies(df[\"Services\"])\n",
    "df['comp_risk'] = [1 if v == 'Low' else 2 if v == 'Medium' else 3 for v in df['Complication_risk']]\n",
    "df['blood_pressure']=blood_pressure\n",
    "df['stroke']=stroke\n",
    "df['overweight']=overweight\n",
    "df['arthritis']=arthritis\n",
    "df['diabetes']=diabetes\n",
    "df['hyperlipidemia']=hyperlipidemia\n",
    "df['backpain']=backpain\n",
    "df['anxiety']=anxiety\n",
    "df['rhinitis']=rhinitis\n",
    "df['esophagitis']=esophagitis\n",
    "df['blood_pressure']=blood_pressure\n",
    "df['stroke']=stroke\n"
   ]
  },
  {
   "cell_type": "code",
   "execution_count": 13,
   "id": "60a7f0a5",
   "metadata": {
    "scrolled": false
   },
   "outputs": [
    {
     "name": "stdout",
     "output_type": "stream",
     "text": [
      "<class 'pandas.core.frame.DataFrame'>\n",
      "RangeIndex: 10000 entries, 0 to 9999\n",
      "Data columns (total 27 columns):\n",
      " #   Column              Non-Null Count  Dtype  \n",
      "---  ------              --------------  -----  \n",
      " 0   age                 10000 non-null  int64  \n",
      " 1   doc_visits          10000 non-null  int64  \n",
      " 2   HighBlood           10000 non-null  object \n",
      " 3   Stroke              10000 non-null  object \n",
      " 4   Complication_risk   10000 non-null  object \n",
      " 5   Overweight          10000 non-null  object \n",
      " 6   Arthritis           10000 non-null  object \n",
      " 7   Diabetes            10000 non-null  object \n",
      " 8   Hyperlipidemia      10000 non-null  object \n",
      " 9   BackPain            10000 non-null  object \n",
      " 10  Anxiety             10000 non-null  object \n",
      " 11  Allergic_rhinitis   10000 non-null  object \n",
      " 12  Reflux_esophagitis  10000 non-null  object \n",
      " 13  initial_days        10000 non-null  float64\n",
      " 14  total_charge        10000 non-null  float64\n",
      " 15  additional_charges  10000 non-null  float64\n",
      " 16  comp_risk           10000 non-null  int64  \n",
      " 17  blood_pressure      10000 non-null  int64  \n",
      " 18  stroke              10000 non-null  int64  \n",
      " 19  overweight          10000 non-null  int64  \n",
      " 20  arthritis           10000 non-null  int64  \n",
      " 21  diabetes            10000 non-null  int64  \n",
      " 22  hyperlipidemia      10000 non-null  int64  \n",
      " 23  backpain            10000 non-null  int64  \n",
      " 24  anxiety             10000 non-null  int64  \n",
      " 25  rhinitis            10000 non-null  int64  \n",
      " 26  esophagitis         10000 non-null  int64  \n",
      "dtypes: float64(3), int64(13), object(11)\n",
      "memory usage: 2.1+ MB\n"
     ]
    }
   ],
   "source": [
    "# DataFrame including old variables and dummy variables\n",
    "\n",
    "df.info()"
   ]
  },
  {
   "cell_type": "code",
   "execution_count": 14,
   "id": "53db7304",
   "metadata": {
    "scrolled": true
   },
   "outputs": [
    {
     "data": {
      "text/html": [
       "<div>\n",
       "<style scoped>\n",
       "    .dataframe tbody tr th:only-of-type {\n",
       "        vertical-align: middle;\n",
       "    }\n",
       "\n",
       "    .dataframe tbody tr th {\n",
       "        vertical-align: top;\n",
       "    }\n",
       "\n",
       "    .dataframe thead th {\n",
       "        text-align: right;\n",
       "    }\n",
       "</style>\n",
       "<table border=\"1\" class=\"dataframe\">\n",
       "  <thead>\n",
       "    <tr style=\"text-align: right;\">\n",
       "      <th></th>\n",
       "      <th>age</th>\n",
       "      <th>doc_visits</th>\n",
       "      <th>initial_days</th>\n",
       "      <th>total_charge</th>\n",
       "      <th>additional_charges</th>\n",
       "      <th>comp_risk</th>\n",
       "      <th>blood_pressure</th>\n",
       "      <th>stroke</th>\n",
       "      <th>overweight</th>\n",
       "      <th>arthritis</th>\n",
       "      <th>diabetes</th>\n",
       "      <th>hyperlipidemia</th>\n",
       "      <th>backpain</th>\n",
       "      <th>anxiety</th>\n",
       "      <th>rhinitis</th>\n",
       "      <th>esophagitis</th>\n",
       "    </tr>\n",
       "  </thead>\n",
       "  <tbody>\n",
       "    <tr>\n",
       "      <th>0</th>\n",
       "      <td>53</td>\n",
       "      <td>6</td>\n",
       "      <td>10.585770</td>\n",
       "      <td>3726.702860</td>\n",
       "      <td>17939.403420</td>\n",
       "      <td>2</td>\n",
       "      <td>1</td>\n",
       "      <td>0</td>\n",
       "      <td>0</td>\n",
       "      <td>1</td>\n",
       "      <td>1</td>\n",
       "      <td>0</td>\n",
       "      <td>1</td>\n",
       "      <td>1</td>\n",
       "      <td>1</td>\n",
       "      <td>0</td>\n",
       "    </tr>\n",
       "    <tr>\n",
       "      <th>1</th>\n",
       "      <td>51</td>\n",
       "      <td>4</td>\n",
       "      <td>15.129562</td>\n",
       "      <td>4193.190458</td>\n",
       "      <td>17612.998120</td>\n",
       "      <td>3</td>\n",
       "      <td>1</td>\n",
       "      <td>0</td>\n",
       "      <td>1</td>\n",
       "      <td>0</td>\n",
       "      <td>0</td>\n",
       "      <td>0</td>\n",
       "      <td>0</td>\n",
       "      <td>0</td>\n",
       "      <td>0</td>\n",
       "      <td>1</td>\n",
       "    </tr>\n",
       "    <tr>\n",
       "      <th>2</th>\n",
       "      <td>53</td>\n",
       "      <td>4</td>\n",
       "      <td>4.772177</td>\n",
       "      <td>2434.234222</td>\n",
       "      <td>17505.192460</td>\n",
       "      <td>2</td>\n",
       "      <td>1</td>\n",
       "      <td>0</td>\n",
       "      <td>1</td>\n",
       "      <td>0</td>\n",
       "      <td>1</td>\n",
       "      <td>0</td>\n",
       "      <td>0</td>\n",
       "      <td>0</td>\n",
       "      <td>0</td>\n",
       "      <td>0</td>\n",
       "    </tr>\n",
       "    <tr>\n",
       "      <th>3</th>\n",
       "      <td>78</td>\n",
       "      <td>4</td>\n",
       "      <td>1.714879</td>\n",
       "      <td>2127.830423</td>\n",
       "      <td>12993.437350</td>\n",
       "      <td>2</td>\n",
       "      <td>0</td>\n",
       "      <td>1</td>\n",
       "      <td>0</td>\n",
       "      <td>1</td>\n",
       "      <td>0</td>\n",
       "      <td>0</td>\n",
       "      <td>0</td>\n",
       "      <td>0</td>\n",
       "      <td>0</td>\n",
       "      <td>1</td>\n",
       "    </tr>\n",
       "    <tr>\n",
       "      <th>4</th>\n",
       "      <td>22</td>\n",
       "      <td>5</td>\n",
       "      <td>1.254807</td>\n",
       "      <td>2113.073274</td>\n",
       "      <td>3716.525786</td>\n",
       "      <td>1</td>\n",
       "      <td>0</td>\n",
       "      <td>0</td>\n",
       "      <td>0</td>\n",
       "      <td>0</td>\n",
       "      <td>0</td>\n",
       "      <td>1</td>\n",
       "      <td>0</td>\n",
       "      <td>0</td>\n",
       "      <td>1</td>\n",
       "      <td>0</td>\n",
       "    </tr>\n",
       "  </tbody>\n",
       "</table>\n",
       "</div>"
      ],
      "text/plain": [
       "   age  doc_visits  initial_days  total_charge  additional_charges  comp_risk  \\\n",
       "0   53           6     10.585770   3726.702860        17939.403420          2   \n",
       "1   51           4     15.129562   4193.190458        17612.998120          3   \n",
       "2   53           4      4.772177   2434.234222        17505.192460          2   \n",
       "3   78           4      1.714879   2127.830423        12993.437350          2   \n",
       "4   22           5      1.254807   2113.073274         3716.525786          1   \n",
       "\n",
       "   blood_pressure  stroke  overweight  arthritis  diabetes  hyperlipidemia  \\\n",
       "0               1       0           0          1         1               0   \n",
       "1               1       0           1          0         0               0   \n",
       "2               1       0           1          0         1               0   \n",
       "3               0       1           0          1         0               0   \n",
       "4               0       0           0          0         0               1   \n",
       "\n",
       "   backpain  anxiety  rhinitis  esophagitis  \n",
       "0         1        1         1            0  \n",
       "1         0        0         0            1  \n",
       "2         0        0         0            0  \n",
       "3         0        0         0            1  \n",
       "4         0        0         1            0  "
      ]
     },
     "execution_count": 14,
     "metadata": {},
     "output_type": "execute_result"
    }
   ],
   "source": [
    "# Drop the original categorical variables and the unnecessary index column\n",
    "\n",
    "df.drop(columns=['HighBlood', 'Stroke', 'Complication_risk', 'Overweight', 'Arthritis', 'Diabetes', 'Hyperlipidemia', 'BackPain', 'Anxiety', 'Allergic_rhinitis', 'Reflux_esophagitis'], inplace=True)\n",
    "df = df.reset_index(drop=True)\n",
    "df.head()\n"
   ]
  },
  {
   "cell_type": "code",
   "execution_count": 15,
   "id": "cdee4393",
   "metadata": {},
   "outputs": [
    {
     "data": {
      "text/html": [
       "<div>\n",
       "<style scoped>\n",
       "    .dataframe tbody tr th:only-of-type {\n",
       "        vertical-align: middle;\n",
       "    }\n",
       "\n",
       "    .dataframe tbody tr th {\n",
       "        vertical-align: top;\n",
       "    }\n",
       "\n",
       "    .dataframe thead th {\n",
       "        text-align: right;\n",
       "    }\n",
       "</style>\n",
       "<table border=\"1\" class=\"dataframe\">\n",
       "  <thead>\n",
       "    <tr style=\"text-align: right;\">\n",
       "      <th></th>\n",
       "      <th>count</th>\n",
       "      <th>mean</th>\n",
       "      <th>std</th>\n",
       "      <th>min</th>\n",
       "      <th>25%</th>\n",
       "      <th>50%</th>\n",
       "      <th>75%</th>\n",
       "      <th>max</th>\n",
       "    </tr>\n",
       "  </thead>\n",
       "  <tbody>\n",
       "    <tr>\n",
       "      <th>age</th>\n",
       "      <td>10000.0</td>\n",
       "      <td>53.511700</td>\n",
       "      <td>20.638538</td>\n",
       "      <td>18.000000</td>\n",
       "      <td>36.000000</td>\n",
       "      <td>53.000000</td>\n",
       "      <td>71.00000</td>\n",
       "      <td>89.00000</td>\n",
       "    </tr>\n",
       "    <tr>\n",
       "      <th>doc_visits</th>\n",
       "      <td>10000.0</td>\n",
       "      <td>5.012200</td>\n",
       "      <td>1.045734</td>\n",
       "      <td>1.000000</td>\n",
       "      <td>4.000000</td>\n",
       "      <td>5.000000</td>\n",
       "      <td>6.00000</td>\n",
       "      <td>9.00000</td>\n",
       "    </tr>\n",
       "    <tr>\n",
       "      <th>initial_days</th>\n",
       "      <td>10000.0</td>\n",
       "      <td>34.455299</td>\n",
       "      <td>26.309341</td>\n",
       "      <td>1.001981</td>\n",
       "      <td>7.896215</td>\n",
       "      <td>35.836244</td>\n",
       "      <td>61.16102</td>\n",
       "      <td>71.98149</td>\n",
       "    </tr>\n",
       "    <tr>\n",
       "      <th>total_charge</th>\n",
       "      <td>10000.0</td>\n",
       "      <td>5312.172769</td>\n",
       "      <td>2180.393838</td>\n",
       "      <td>1938.312067</td>\n",
       "      <td>3179.374015</td>\n",
       "      <td>5213.952000</td>\n",
       "      <td>7459.69975</td>\n",
       "      <td>9180.72800</td>\n",
       "    </tr>\n",
       "    <tr>\n",
       "      <th>additional_charges</th>\n",
       "      <td>10000.0</td>\n",
       "      <td>12934.528587</td>\n",
       "      <td>6542.601544</td>\n",
       "      <td>3125.703000</td>\n",
       "      <td>7986.487755</td>\n",
       "      <td>11573.977735</td>\n",
       "      <td>15626.49000</td>\n",
       "      <td>30566.07000</td>\n",
       "    </tr>\n",
       "    <tr>\n",
       "      <th>comp_risk</th>\n",
       "      <td>10000.0</td>\n",
       "      <td>2.123300</td>\n",
       "      <td>0.730172</td>\n",
       "      <td>1.000000</td>\n",
       "      <td>2.000000</td>\n",
       "      <td>2.000000</td>\n",
       "      <td>3.00000</td>\n",
       "      <td>3.00000</td>\n",
       "    </tr>\n",
       "    <tr>\n",
       "      <th>blood_pressure</th>\n",
       "      <td>10000.0</td>\n",
       "      <td>0.409000</td>\n",
       "      <td>0.491674</td>\n",
       "      <td>0.000000</td>\n",
       "      <td>0.000000</td>\n",
       "      <td>0.000000</td>\n",
       "      <td>1.00000</td>\n",
       "      <td>1.00000</td>\n",
       "    </tr>\n",
       "    <tr>\n",
       "      <th>stroke</th>\n",
       "      <td>10000.0</td>\n",
       "      <td>0.199300</td>\n",
       "      <td>0.399494</td>\n",
       "      <td>0.000000</td>\n",
       "      <td>0.000000</td>\n",
       "      <td>0.000000</td>\n",
       "      <td>0.00000</td>\n",
       "      <td>1.00000</td>\n",
       "    </tr>\n",
       "    <tr>\n",
       "      <th>overweight</th>\n",
       "      <td>10000.0</td>\n",
       "      <td>0.709400</td>\n",
       "      <td>0.454062</td>\n",
       "      <td>0.000000</td>\n",
       "      <td>0.000000</td>\n",
       "      <td>1.000000</td>\n",
       "      <td>1.00000</td>\n",
       "      <td>1.00000</td>\n",
       "    </tr>\n",
       "    <tr>\n",
       "      <th>arthritis</th>\n",
       "      <td>10000.0</td>\n",
       "      <td>0.357400</td>\n",
       "      <td>0.479258</td>\n",
       "      <td>0.000000</td>\n",
       "      <td>0.000000</td>\n",
       "      <td>0.000000</td>\n",
       "      <td>1.00000</td>\n",
       "      <td>1.00000</td>\n",
       "    </tr>\n",
       "    <tr>\n",
       "      <th>diabetes</th>\n",
       "      <td>10000.0</td>\n",
       "      <td>0.273800</td>\n",
       "      <td>0.445930</td>\n",
       "      <td>0.000000</td>\n",
       "      <td>0.000000</td>\n",
       "      <td>0.000000</td>\n",
       "      <td>1.00000</td>\n",
       "      <td>1.00000</td>\n",
       "    </tr>\n",
       "    <tr>\n",
       "      <th>hyperlipidemia</th>\n",
       "      <td>10000.0</td>\n",
       "      <td>0.337200</td>\n",
       "      <td>0.472777</td>\n",
       "      <td>0.000000</td>\n",
       "      <td>0.000000</td>\n",
       "      <td>0.000000</td>\n",
       "      <td>1.00000</td>\n",
       "      <td>1.00000</td>\n",
       "    </tr>\n",
       "    <tr>\n",
       "      <th>backpain</th>\n",
       "      <td>10000.0</td>\n",
       "      <td>0.411400</td>\n",
       "      <td>0.492112</td>\n",
       "      <td>0.000000</td>\n",
       "      <td>0.000000</td>\n",
       "      <td>0.000000</td>\n",
       "      <td>1.00000</td>\n",
       "      <td>1.00000</td>\n",
       "    </tr>\n",
       "    <tr>\n",
       "      <th>anxiety</th>\n",
       "      <td>10000.0</td>\n",
       "      <td>0.321500</td>\n",
       "      <td>0.467076</td>\n",
       "      <td>0.000000</td>\n",
       "      <td>0.000000</td>\n",
       "      <td>0.000000</td>\n",
       "      <td>1.00000</td>\n",
       "      <td>1.00000</td>\n",
       "    </tr>\n",
       "    <tr>\n",
       "      <th>rhinitis</th>\n",
       "      <td>10000.0</td>\n",
       "      <td>0.394100</td>\n",
       "      <td>0.488681</td>\n",
       "      <td>0.000000</td>\n",
       "      <td>0.000000</td>\n",
       "      <td>0.000000</td>\n",
       "      <td>1.00000</td>\n",
       "      <td>1.00000</td>\n",
       "    </tr>\n",
       "    <tr>\n",
       "      <th>esophagitis</th>\n",
       "      <td>10000.0</td>\n",
       "      <td>0.413500</td>\n",
       "      <td>0.492486</td>\n",
       "      <td>0.000000</td>\n",
       "      <td>0.000000</td>\n",
       "      <td>0.000000</td>\n",
       "      <td>1.00000</td>\n",
       "      <td>1.00000</td>\n",
       "    </tr>\n",
       "  </tbody>\n",
       "</table>\n",
       "</div>"
      ],
      "text/plain": [
       "                      count          mean          std          min  \\\n",
       "age                 10000.0     53.511700    20.638538    18.000000   \n",
       "doc_visits          10000.0      5.012200     1.045734     1.000000   \n",
       "initial_days        10000.0     34.455299    26.309341     1.001981   \n",
       "total_charge        10000.0   5312.172769  2180.393838  1938.312067   \n",
       "additional_charges  10000.0  12934.528587  6542.601544  3125.703000   \n",
       "comp_risk           10000.0      2.123300     0.730172     1.000000   \n",
       "blood_pressure      10000.0      0.409000     0.491674     0.000000   \n",
       "stroke              10000.0      0.199300     0.399494     0.000000   \n",
       "overweight          10000.0      0.709400     0.454062     0.000000   \n",
       "arthritis           10000.0      0.357400     0.479258     0.000000   \n",
       "diabetes            10000.0      0.273800     0.445930     0.000000   \n",
       "hyperlipidemia      10000.0      0.337200     0.472777     0.000000   \n",
       "backpain            10000.0      0.411400     0.492112     0.000000   \n",
       "anxiety             10000.0      0.321500     0.467076     0.000000   \n",
       "rhinitis            10000.0      0.394100     0.488681     0.000000   \n",
       "esophagitis         10000.0      0.413500     0.492486     0.000000   \n",
       "\n",
       "                            25%           50%          75%          max  \n",
       "age                   36.000000     53.000000     71.00000     89.00000  \n",
       "doc_visits             4.000000      5.000000      6.00000      9.00000  \n",
       "initial_days           7.896215     35.836244     61.16102     71.98149  \n",
       "total_charge        3179.374015   5213.952000   7459.69975   9180.72800  \n",
       "additional_charges  7986.487755  11573.977735  15626.49000  30566.07000  \n",
       "comp_risk              2.000000      2.000000      3.00000      3.00000  \n",
       "blood_pressure         0.000000      0.000000      1.00000      1.00000  \n",
       "stroke                 0.000000      0.000000      0.00000      1.00000  \n",
       "overweight             0.000000      1.000000      1.00000      1.00000  \n",
       "arthritis              0.000000      0.000000      1.00000      1.00000  \n",
       "diabetes               0.000000      0.000000      1.00000      1.00000  \n",
       "hyperlipidemia         0.000000      0.000000      1.00000      1.00000  \n",
       "backpain               0.000000      0.000000      1.00000      1.00000  \n",
       "anxiety                0.000000      0.000000      1.00000      1.00000  \n",
       "rhinitis               0.000000      0.000000      1.00000      1.00000  \n",
       "esophagitis            0.000000      0.000000      1.00000      1.00000  "
      ]
     },
     "execution_count": 15,
     "metadata": {},
     "output_type": "execute_result"
    }
   ],
   "source": [
    "# Description of new DataFrame\n",
    "\n",
    "df.describe().transpose()"
   ]
  },
  {
   "cell_type": "markdown",
   "id": "2f2495e3",
   "metadata": {},
   "source": [
    "**Step Three: Data Visualization**\n",
    "\n",
    "- Create a histogram to visualize the cleaned dataset."
   ]
  },
  {
   "cell_type": "code",
   "execution_count": 16,
   "id": "f34ed896",
   "metadata": {},
   "outputs": [
    {
     "data": {
      "image/png": "[encoded data removed]",
      "text/plain": [
       "<Figure size 1040x715 with 16 Axes>"
      ]
     },
     "metadata": {},
     "output_type": "display_data"
    }
   ],
   "source": [
    "# Create a graph of the cleaned data set\n",
    "\n",
    "plt.style.use('seaborn-talk')\n",
    "df.hist()\n",
    "plt.tight_layout()\n",
    "plt.show()"
   ]
  },
  {
   "cell_type": "markdown",
   "id": "6d1a1c25",
   "metadata": {},
   "source": [
    "### Copy of the Cleaned Data Set"
   ]
  },
  {
   "cell_type": "code",
   "execution_count": 17,
   "id": "c75f6520",
   "metadata": {},
   "outputs": [],
   "source": [
    "# Provide a copy of the cleaned data set\n",
    "\n",
    "df.to_csv('clean_data.csv')"
   ]
  },
  {
   "cell_type": "markdown",
   "id": "68fdaa7f",
   "metadata": {},
   "source": [
    "## Model Development"
   ]
  },
  {
   "cell_type": "code",
   "execution_count": 18,
   "id": "68fbf3d2",
   "metadata": {},
   "outputs": [],
   "source": [
    "# Move the target variable to the end of the dataframe\n",
    "\n",
    "df_reorg=[col for col in df.columns if col != 'total_charge'] + ['total_charge']\n",
    "df=df[df_reorg]"
   ]
  },
  {
   "cell_type": "code",
   "execution_count": 19,
   "id": "78784ab2",
   "metadata": {
    "scrolled": true
   },
   "outputs": [
    {
     "name": "stdout",
     "output_type": "stream",
     "text": [
      "The Feature Dimension is:  (10000, 15)\n"
     ]
    }
   ],
   "source": [
    "# Split the data into train and test data sets\n",
    "\n",
    "X=df.drop(['total_charge'], axis=1)\n",
    "y=df.total_charge\n",
    "X_train, X_test, y_train, y_test=train_test_split(X,y, test_size=.20, random_state=21)\n",
    "print(\"The Feature Dimension is: \", X.shape) "
   ]
  },
  {
   "cell_type": "code",
   "execution_count": 20,
   "id": "b5d875b3",
   "metadata": {},
   "outputs": [],
   "source": [
    "# Create train data sets and save to CSV\n",
    "\n",
    "X_train=pd.DataFrame(X_train)\n",
    "y_train=pd.DataFrame(y_train)\n",
    "\n",
    "X_train.to_csv('X_train.csv')\n",
    "y_train.to_csv('y_train.csv')"
   ]
  },
  {
   "cell_type": "code",
   "execution_count": 21,
   "id": "81d0a172",
   "metadata": {},
   "outputs": [],
   "source": [
    "# Create test data sets and save to CSV\n",
    "\n",
    "X_test=pd.DataFrame(X_test)\n",
    "y_test=pd.DataFrame(y_test)\n",
    "\n",
    "X_test.to_csv('X_test.csv')\n",
    "y_test.to_csv('y_test.csv')"
   ]
  },
  {
   "cell_type": "markdown",
   "id": "886aeba0",
   "metadata": {},
   "source": [
    "### Step One: Model Initialization\n",
    "\n",
    "- Create a `RandomForestRegressor` variable."
   ]
  },
  {
   "cell_type": "code",
   "execution_count": 22,
   "id": "122bacf1",
   "metadata": {},
   "outputs": [],
   "source": [
    "# Create a RandomForestRegressor variable\n",
    "\n",
    "randomForestModel = RandomForestRegressor(n_estimators=200, bootstrap=True, max_features='sqrt')"
   ]
  },
  {
   "cell_type": "markdown",
   "id": "ab50bbaf",
   "metadata": {},
   "source": [
    "### Step Two: Model Training and Evaluation\n",
    "\n",
    "- Fit the model with training and test datasets.\n",
    "- Make predictions and assess accuracy using metrics."
   ]
  },
  {
   "cell_type": "code",
   "execution_count": 23,
   "id": "f669603e",
   "metadata": {},
   "outputs": [
    {
     "data": {
      "text/plain": [
       "RandomForestRegressor(max_features='sqrt', n_estimators=200)"
      ]
     },
     "execution_count": 23,
     "metadata": {},
     "output_type": "execute_result"
    }
   ],
   "source": [
    "# Fit the model\n",
    "\n",
    "randomForestModel.fit(X_train, y_train)"
   ]
  },
  {
   "cell_type": "code",
   "execution_count": 28,
   "id": "947dd6b1",
   "metadata": {},
   "outputs": [
    {
     "name": "stdout",
     "output_type": "stream",
     "text": [
      "    Mean Absolute Error: 298.61267919315236\n",
      "     Mean Squared Error: 132144.78766622327\n",
      "Root Mean Squared Error: 363.51724534913507\n",
      "                  Score: 0.973\n"
     ]
    }
   ],
   "source": [
    "# Make predictions and check accuracy\n",
    "\n",
    "rf_preds = randomForestModel.predict(X_test)\n",
    "print('    Mean Absolute Error:', mean_absolute_error(y_test, rf_preds))\n",
    "print('     Mean Squared Error:', mean_squared_error(y_test, rf_preds))\n",
    "print('Root Mean Squared Error:', np.sqrt(mean_squared_error(y_test, rf_preds)))\n",
    "print('                  Score: %.3f' % randomForestModel.score(X_test, y_test))"
   ]
  },
  {
   "cell_type": "markdown",
   "id": "97160f5b",
   "metadata": {},
   "source": [
    "### Step Three: Feature Importance\n",
    "\n",
    "- Generate feature importance scores.\n",
    "- Assess the most significant features."
   ]
  },
  {
   "cell_type": "code",
   "execution_count": 29,
   "id": "5ac6cab1",
   "metadata": {
    "scrolled": true
   },
   "outputs": [],
   "source": [
    "# Create features and importances\n",
    "\n",
    "features = X_train.columns\n",
    "\n",
    "importances = list(randomForestModel.feature_importances_)"
   ]
  },
  {
   "cell_type": "code",
   "execution_count": 30,
   "id": "bc907e58",
   "metadata": {
    "scrolled": false
   },
   "outputs": [
    {
     "name": "stdout",
     "output_type": "stream",
     "text": [
      "Variable: initial_days         Importance 0.88\n",
      "Variable: additional_charges   Importance 0.03\n",
      "Variable: age                  Importance 0.02\n",
      "Variable: doc_visits           Importance 0.01\n",
      "Variable: comp_risk            Importance 0.01\n",
      "Variable: blood_pressure       Importance 0.0\n",
      "Variable: stroke               Importance 0.0\n",
      "Variable: overweight           Importance 0.0\n",
      "Variable: arthritis            Importance 0.0\n",
      "Variable: diabetes             Importance 0.0\n",
      "Variable: hyperlipidemia       Importance 0.0\n",
      "Variable: backpain             Importance 0.0\n",
      "Variable: anxiety              Importance 0.0\n",
      "Variable: rhinitis             Importance 0.0\n",
      "Variable: esophagitis          Importance 0.0\n"
     ]
    }
   ],
   "source": [
    "# Check feature importance\n",
    "\n",
    "feature_importances = [(feature, round(importance, 2)) for feature, importance in zip(features, importances)]\n",
    "feature_importances = sorted(feature_importances, key=lambda x: x[1], reverse=True)\n",
    "\n",
    "[print('Variable: {:20} Importance {}'.format(*pair)) for pair in feature_importances];"
   ]
  },
  {
   "cell_type": "markdown",
   "id": "014a0dd8",
   "metadata": {},
   "source": [
    "### Step Four: Model Refinement\n",
    "\n",
    "- Rebuild the model with the most important features.\n",
    "- Train the refined model.\n",
    "- Make predictions with the refined model."
   ]
  },
  {
   "cell_type": "code",
   "execution_count": 31,
   "id": "dc74fac9",
   "metadata": {},
   "outputs": [],
   "source": [
    "# Recreate model with important features\n",
    "\n",
    "rf_important = RandomForestRegressor(n_estimators=500, random_state=5)\n",
    "important_indices = [features[2], features[1]]\n",
    "\n",
    "train_important = X_train.loc[:,['initial_days', 'age', 'additional_charges']]\n",
    "test_important = X_test.loc[:,['initial_days', 'age', 'additional_charges']]\n",
    "\n"
   ]
  },
  {
   "cell_type": "code",
   "execution_count": 32,
   "id": "595e18ae",
   "metadata": {},
   "outputs": [
    {
     "data": {
      "text/plain": [
       "RandomForestRegressor(n_estimators=500, random_state=5)"
      ]
     },
     "execution_count": 32,
     "metadata": {},
     "output_type": "execute_result"
    }
   ],
   "source": [
    "# Fit the model\n",
    "\n",
    "rf_important.fit(train_important, y_train)"
   ]
  },
  {
   "cell_type": "code",
   "execution_count": 33,
   "id": "913696ff",
   "metadata": {},
   "outputs": [
    {
     "data": {
      "text/plain": [
       "array([2754.66279009, 2739.73113996, 6628.737908  , ..., 3839.38261974,\n",
       "       6781.525688  , 8050.152992  ])"
      ]
     },
     "execution_count": 33,
     "metadata": {},
     "output_type": "execute_result"
    }
   ],
   "source": [
    "# Make the predictions\n",
    "\n",
    "preds = rf_important.predict(test_important)\n",
    "preds"
   ]
  },
  {
   "cell_type": "markdown",
   "id": "26366b28",
   "metadata": {},
   "source": [
    "## Data Summary and Implications\n",
    "\n",
    "### Model Evaluation\n",
    "\n",
    "- The initial model achieved a 97.5% accuracy, while the refined model with only essential features reached 98.0%. This indicates improved predictive power in the refined model.\n",
    "- The target variable, patient's total charge, is measured in dollars, making MSE and RMSE crucial for assessing prediction accuracy. The refined model demonstrates superior accuracy in both metrics.\n",
    "- The Mean Squared Error (MSE) highlights the difference between predicted and actual values in the dataset.\n",
    "- The Root Mean Squared Error (RMSE) is the square root of the MSE, indicating higher accuracy with lower scores."
   ]
  },
  {
   "cell_type": "code",
   "execution_count": 35,
   "id": "4dd52d86",
   "metadata": {
    "scrolled": true
   },
   "outputs": [
    {
     "name": "stdout",
     "output_type": "stream",
     "text": [
      "         Original Model Mean Squared Error: 132144.78766622327\n",
      "Important Feature Model Mean Squared Error: 97209.21397599732\n"
     ]
    }
   ],
   "source": [
    "print('         Original Model Mean Squared Error:', mean_squared_error(y_test, rf_preds))\n",
    "print('Important Feature Model Mean Squared Error:', mean_squared_error(y_test, preds))"
   ]
  },
  {
   "cell_type": "code",
   "execution_count": 36,
   "id": "258c6d6b",
   "metadata": {},
   "outputs": [
    {
     "name": "stdout",
     "output_type": "stream",
     "text": [
      "         Original Model Root Mean Squared Error: 363.51724534913507\n",
      "Important Feature Model Root Mean Squared Error: 311.78392193311913\n"
     ]
    }
   ],
   "source": [
    "print('         Original Model Root Mean Squared Error:', np.sqrt(mean_squared_error(y_test, rf_preds)))\n",
    "print('Important Feature Model Root Mean Squared Error:', np.sqrt(mean_squared_error(y_test, preds)))"
   ]
  },
  {
   "cell_type": "markdown",
   "id": "66df9fd7",
   "metadata": {},
   "source": [
    "### Results and Implications\n",
    "\n",
    "- The Random Forests method, initially achieving 97.5% accuracy, improved to 98.0% in the refined model.\n",
    "- The most critical feature for predicting a patient's total charge is \"Initial_days,\" representing the duration of their initial hospital stay.\n",
    "\n",
    "- The organization should leverage these results to explore revenue generation during patients' initial stays and allocate resources accordingly.\n",
    "\n",
    "- Further enhancement can be achieved through hyperparameter tuning.\n",
    "\n",
    "## Limitations\n",
    "\n",
    "- While Random Forests are powerful for machine learning and predictions, scalability can be a limitation. For large datasets, the method may become slow and less effective for real-time predictions.\n",
    "\n",
    "## Recommended Course of Action\n",
    "\n",
    "- Utilize the predictive model to identify revenue-generating services during a patient's initial stay.\n",
    "- Consider hyperparameter tuning to further improve model performance.\n",
    "- Exercise caution when scaling the amount of data analyzed, as Random Forests can become slow and less effective with large datasets.\n",
    "\n",
    "## References\n",
    "\n",
    "- Bruce, P., Bruce, A., & Gedeck, P. (2020). _Practical statistics for data scientists: 50+ essential concepts using R and Python_. O'Reilly Media, Incorporated.\n",
    "\n",
    "- Donges, Niklas (n.d.). _Random Forest: A Complete Guide for Machine Learning_. [BuiltIn.com](https://builtin.com/data-science/random-forest-algorithm).\n",
    "\n",
    "- Kayitar, Prakhar (n.d.). _Assumptions in Supervised Machine Learning Models_. [CloudyML.com](www.cloudyml.com/blog/assumptions-in-machine-learning-models/)."
   ]
  }
 ],
 "metadata": {
  "kernelspec": {
   "display_name": "Python 3 (ipykernel)",
   "language": "python",
   "name": "python3"
  },
  "language_info": {
   "codemirror_mode": {
    "name": "ipython",
    "version": 3
   },
   "file_extension": ".py",
   "mimetype": "text/x-python",
   "name": "python",
   "nbconvert_exporter": "python",
   "pygments_lexer": "ipython3",
   "version": "3.9.13"
  }
 },
 "nbformat": 4,
 "nbformat_minor": 5
}
